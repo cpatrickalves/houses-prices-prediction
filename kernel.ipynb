{
 "cells": [
  {
   "cell_type": "markdown",
   "metadata": {},
   "source": [
    "# Houses Price Prediction Project\n",
    "\n",
    "Project planning steps:\n",
    "1. Understand the problem \n",
    "2. Explore, clear, and prepare the data\n",
    "3. Select and transform variables\n",
    "4. Build, test, evaluate, and optimize the model\n",
    "5. Tell the story of the data \n",
    "\n",
    "__The problem to be solved__: create a Machine Learning model to predict the price of a house\n",
    "\n",
    "Quais a perguntas de negócio a serem respondidas?\n",
    "Qual o problema que queremos resolver?\n",
    "Por que ele é importante?\n",
    "Dada uma solução hipotética para esse problema, como isso afetaria a empresa?"
   ]
  },
  {
   "cell_type": "markdown",
   "metadata": {},
   "source": [
    "## Exploratory Data Analysis\n",
    "\n",
    "In this section, I've performed data analysis to better understand the data.\n",
    "\n",
    "This dataset contains 79 explanatory variables. \n",
    "The file __data/data_description.txt__ contains the description of each variable."
   ]
  },
  {
   "cell_type": "code",
   "execution_count": 1,
   "metadata": {},
   "outputs": [],
   "source": [
    "# loading packages\n",
    "import numpy as np\n",
    "import pandas as pd\n",
    "import matplotlib.pyplot as plt\n",
    "import matplotlib as mpl\n",
    "import seaborn as sns\n",
    "%matplotlib inline"
   ]
  },
  {
   "cell_type": "code",
   "execution_count": 2,
   "metadata": {},
   "outputs": [
    {
     "data": {
      "text/html": [
       "<div>\n",
       "<style scoped>\n",
       "    .dataframe tbody tr th:only-of-type {\n",
       "        vertical-align: middle;\n",
       "    }\n",
       "\n",
       "    .dataframe tbody tr th {\n",
       "        vertical-align: top;\n",
       "    }\n",
       "\n",
       "    .dataframe thead th {\n",
       "        text-align: right;\n",
       "    }\n",
       "</style>\n",
       "<table border=\"1\" class=\"dataframe\">\n",
       "  <thead>\n",
       "    <tr style=\"text-align: right;\">\n",
       "      <th></th>\n",
       "      <th>Id</th>\n",
       "      <th>MSSubClass</th>\n",
       "      <th>MSZoning</th>\n",
       "      <th>LotFrontage</th>\n",
       "      <th>LotArea</th>\n",
       "      <th>Street</th>\n",
       "      <th>Alley</th>\n",
       "      <th>LotShape</th>\n",
       "      <th>LandContour</th>\n",
       "      <th>Utilities</th>\n",
       "      <th>...</th>\n",
       "      <th>PoolArea</th>\n",
       "      <th>PoolQC</th>\n",
       "      <th>Fence</th>\n",
       "      <th>MiscFeature</th>\n",
       "      <th>MiscVal</th>\n",
       "      <th>MoSold</th>\n",
       "      <th>YrSold</th>\n",
       "      <th>SaleType</th>\n",
       "      <th>SaleCondition</th>\n",
       "      <th>SalePrice</th>\n",
       "    </tr>\n",
       "  </thead>\n",
       "  <tbody>\n",
       "    <tr>\n",
       "      <th>0</th>\n",
       "      <td>1</td>\n",
       "      <td>60</td>\n",
       "      <td>RL</td>\n",
       "      <td>65.0</td>\n",
       "      <td>8450</td>\n",
       "      <td>Pave</td>\n",
       "      <td>NaN</td>\n",
       "      <td>Reg</td>\n",
       "      <td>Lvl</td>\n",
       "      <td>AllPub</td>\n",
       "      <td>...</td>\n",
       "      <td>0</td>\n",
       "      <td>NaN</td>\n",
       "      <td>NaN</td>\n",
       "      <td>NaN</td>\n",
       "      <td>0</td>\n",
       "      <td>2</td>\n",
       "      <td>2008</td>\n",
       "      <td>WD</td>\n",
       "      <td>Normal</td>\n",
       "      <td>208500</td>\n",
       "    </tr>\n",
       "    <tr>\n",
       "      <th>1</th>\n",
       "      <td>2</td>\n",
       "      <td>20</td>\n",
       "      <td>RL</td>\n",
       "      <td>80.0</td>\n",
       "      <td>9600</td>\n",
       "      <td>Pave</td>\n",
       "      <td>NaN</td>\n",
       "      <td>Reg</td>\n",
       "      <td>Lvl</td>\n",
       "      <td>AllPub</td>\n",
       "      <td>...</td>\n",
       "      <td>0</td>\n",
       "      <td>NaN</td>\n",
       "      <td>NaN</td>\n",
       "      <td>NaN</td>\n",
       "      <td>0</td>\n",
       "      <td>5</td>\n",
       "      <td>2007</td>\n",
       "      <td>WD</td>\n",
       "      <td>Normal</td>\n",
       "      <td>181500</td>\n",
       "    </tr>\n",
       "    <tr>\n",
       "      <th>2</th>\n",
       "      <td>3</td>\n",
       "      <td>60</td>\n",
       "      <td>RL</td>\n",
       "      <td>68.0</td>\n",
       "      <td>11250</td>\n",
       "      <td>Pave</td>\n",
       "      <td>NaN</td>\n",
       "      <td>IR1</td>\n",
       "      <td>Lvl</td>\n",
       "      <td>AllPub</td>\n",
       "      <td>...</td>\n",
       "      <td>0</td>\n",
       "      <td>NaN</td>\n",
       "      <td>NaN</td>\n",
       "      <td>NaN</td>\n",
       "      <td>0</td>\n",
       "      <td>9</td>\n",
       "      <td>2008</td>\n",
       "      <td>WD</td>\n",
       "      <td>Normal</td>\n",
       "      <td>223500</td>\n",
       "    </tr>\n",
       "    <tr>\n",
       "      <th>3</th>\n",
       "      <td>4</td>\n",
       "      <td>70</td>\n",
       "      <td>RL</td>\n",
       "      <td>60.0</td>\n",
       "      <td>9550</td>\n",
       "      <td>Pave</td>\n",
       "      <td>NaN</td>\n",
       "      <td>IR1</td>\n",
       "      <td>Lvl</td>\n",
       "      <td>AllPub</td>\n",
       "      <td>...</td>\n",
       "      <td>0</td>\n",
       "      <td>NaN</td>\n",
       "      <td>NaN</td>\n",
       "      <td>NaN</td>\n",
       "      <td>0</td>\n",
       "      <td>2</td>\n",
       "      <td>2006</td>\n",
       "      <td>WD</td>\n",
       "      <td>Abnorml</td>\n",
       "      <td>140000</td>\n",
       "    </tr>\n",
       "    <tr>\n",
       "      <th>4</th>\n",
       "      <td>5</td>\n",
       "      <td>60</td>\n",
       "      <td>RL</td>\n",
       "      <td>84.0</td>\n",
       "      <td>14260</td>\n",
       "      <td>Pave</td>\n",
       "      <td>NaN</td>\n",
       "      <td>IR1</td>\n",
       "      <td>Lvl</td>\n",
       "      <td>AllPub</td>\n",
       "      <td>...</td>\n",
       "      <td>0</td>\n",
       "      <td>NaN</td>\n",
       "      <td>NaN</td>\n",
       "      <td>NaN</td>\n",
       "      <td>0</td>\n",
       "      <td>12</td>\n",
       "      <td>2008</td>\n",
       "      <td>WD</td>\n",
       "      <td>Normal</td>\n",
       "      <td>250000</td>\n",
       "    </tr>\n",
       "  </tbody>\n",
       "</table>\n",
       "<p>5 rows × 81 columns</p>\n",
       "</div>"
      ],
      "text/plain": [
       "   Id  MSSubClass MSZoning  LotFrontage  LotArea Street Alley LotShape  \\\n",
       "0   1          60       RL         65.0     8450   Pave   NaN      Reg   \n",
       "1   2          20       RL         80.0     9600   Pave   NaN      Reg   \n",
       "2   3          60       RL         68.0    11250   Pave   NaN      IR1   \n",
       "3   4          70       RL         60.0     9550   Pave   NaN      IR1   \n",
       "4   5          60       RL         84.0    14260   Pave   NaN      IR1   \n",
       "\n",
       "  LandContour Utilities  ... PoolArea PoolQC Fence MiscFeature MiscVal MoSold  \\\n",
       "0         Lvl    AllPub  ...        0    NaN   NaN         NaN       0      2   \n",
       "1         Lvl    AllPub  ...        0    NaN   NaN         NaN       0      5   \n",
       "2         Lvl    AllPub  ...        0    NaN   NaN         NaN       0      9   \n",
       "3         Lvl    AllPub  ...        0    NaN   NaN         NaN       0      2   \n",
       "4         Lvl    AllPub  ...        0    NaN   NaN         NaN       0     12   \n",
       "\n",
       "  YrSold  SaleType  SaleCondition  SalePrice  \n",
       "0   2008        WD         Normal     208500  \n",
       "1   2007        WD         Normal     181500  \n",
       "2   2008        WD         Normal     223500  \n",
       "3   2006        WD        Abnorml     140000  \n",
       "4   2008        WD         Normal     250000  \n",
       "\n",
       "[5 rows x 81 columns]"
      ]
     },
     "execution_count": 2,
     "metadata": {},
     "output_type": "execute_result"
    }
   ],
   "source": [
    "# Loading the datasets\n",
    "\n",
    "train = pd.read_csv('data/train.csv')\n",
    "test = pd.read_csv('data/test.csv')\n",
    "\n",
    "train.head(5)"
   ]
  },
  {
   "cell_type": "markdown",
   "metadata": {},
   "source": [
    "As the first step, let's see the data type in each column of the dataset."
   ]
  },
  {
   "cell_type": "code",
   "execution_count": 3,
   "metadata": {},
   "outputs": [
    {
     "name": "stdout",
     "output_type": "stream",
     "text": [
      "<class 'pandas.core.frame.DataFrame'>\n",
      "RangeIndex: 1460 entries, 0 to 1459\n",
      "Data columns (total 81 columns):\n",
      "Id               1460 non-null int64\n",
      "MSSubClass       1460 non-null int64\n",
      "MSZoning         1460 non-null object\n",
      "LotFrontage      1201 non-null float64\n",
      "LotArea          1460 non-null int64\n",
      "Street           1460 non-null object\n",
      "Alley            91 non-null object\n",
      "LotShape         1460 non-null object\n",
      "LandContour      1460 non-null object\n",
      "Utilities        1460 non-null object\n",
      "LotConfig        1460 non-null object\n",
      "LandSlope        1460 non-null object\n",
      "Neighborhood     1460 non-null object\n",
      "Condition1       1460 non-null object\n",
      "Condition2       1460 non-null object\n",
      "BldgType         1460 non-null object\n",
      "HouseStyle       1460 non-null object\n",
      "OverallQual      1460 non-null int64\n",
      "OverallCond      1460 non-null int64\n",
      "YearBuilt        1460 non-null int64\n",
      "YearRemodAdd     1460 non-null int64\n",
      "RoofStyle        1460 non-null object\n",
      "RoofMatl         1460 non-null object\n",
      "Exterior1st      1460 non-null object\n",
      "Exterior2nd      1460 non-null object\n",
      "MasVnrType       1452 non-null object\n",
      "MasVnrArea       1452 non-null float64\n",
      "ExterQual        1460 non-null object\n",
      "ExterCond        1460 non-null object\n",
      "Foundation       1460 non-null object\n",
      "BsmtQual         1423 non-null object\n",
      "BsmtCond         1423 non-null object\n",
      "BsmtExposure     1422 non-null object\n",
      "BsmtFinType1     1423 non-null object\n",
      "BsmtFinSF1       1460 non-null int64\n",
      "BsmtFinType2     1422 non-null object\n",
      "BsmtFinSF2       1460 non-null int64\n",
      "BsmtUnfSF        1460 non-null int64\n",
      "TotalBsmtSF      1460 non-null int64\n",
      "Heating          1460 non-null object\n",
      "HeatingQC        1460 non-null object\n",
      "CentralAir       1460 non-null object\n",
      "Electrical       1459 non-null object\n",
      "1stFlrSF         1460 non-null int64\n",
      "2ndFlrSF         1460 non-null int64\n",
      "LowQualFinSF     1460 non-null int64\n",
      "GrLivArea        1460 non-null int64\n",
      "BsmtFullBath     1460 non-null int64\n",
      "BsmtHalfBath     1460 non-null int64\n",
      "FullBath         1460 non-null int64\n",
      "HalfBath         1460 non-null int64\n",
      "BedroomAbvGr     1460 non-null int64\n",
      "KitchenAbvGr     1460 non-null int64\n",
      "KitchenQual      1460 non-null object\n",
      "TotRmsAbvGrd     1460 non-null int64\n",
      "Functional       1460 non-null object\n",
      "Fireplaces       1460 non-null int64\n",
      "FireplaceQu      770 non-null object\n",
      "GarageType       1379 non-null object\n",
      "GarageYrBlt      1379 non-null float64\n",
      "GarageFinish     1379 non-null object\n",
      "GarageCars       1460 non-null int64\n",
      "GarageArea       1460 non-null int64\n",
      "GarageQual       1379 non-null object\n",
      "GarageCond       1379 non-null object\n",
      "PavedDrive       1460 non-null object\n",
      "WoodDeckSF       1460 non-null int64\n",
      "OpenPorchSF      1460 non-null int64\n",
      "EnclosedPorch    1460 non-null int64\n",
      "3SsnPorch        1460 non-null int64\n",
      "ScreenPorch      1460 non-null int64\n",
      "PoolArea         1460 non-null int64\n",
      "PoolQC           7 non-null object\n",
      "Fence            281 non-null object\n",
      "MiscFeature      54 non-null object\n",
      "MiscVal          1460 non-null int64\n",
      "MoSold           1460 non-null int64\n",
      "YrSold           1460 non-null int64\n",
      "SaleType         1460 non-null object\n",
      "SaleCondition    1460 non-null object\n",
      "SalePrice        1460 non-null int64\n",
      "dtypes: float64(3), int64(35), object(43)\n",
      "memory usage: 924.0+ KB\n"
     ]
    }
   ],
   "source": [
    "# General statistics\n",
    "train.info()"
   ]
  },
  {
   "cell_type": "markdown",
   "metadata": {},
   "source": [
    "We can see that the dataset has 1460 rows and 81 columns with numerical and categorical data.\n",
    "\n",
    "Before start to analyzing each attribute, let's check if there are columns with null values (_NaN_).\n",
    "\n",
    "### Data Cleaning"
   ]
  },
  {
   "cell_type": "code",
   "execution_count": 4,
   "metadata": {},
   "outputs": [
    {
     "data": {
      "text/plain": [
       "PoolQC          1453\n",
       "MiscFeature     1406\n",
       "Alley           1369\n",
       "Fence           1179\n",
       "FireplaceQu      690\n",
       "LotFrontage      259\n",
       "GarageCond        81\n",
       "GarageType        81\n",
       "GarageYrBlt       81\n",
       "GarageFinish      81\n",
       "GarageQual        81\n",
       "BsmtExposure      38\n",
       "BsmtFinType2      38\n",
       "BsmtFinType1      37\n",
       "BsmtCond          37\n",
       "BsmtQual          37\n",
       "MasVnrArea         8\n",
       "MasVnrType         8\n",
       "Electrical         1\n",
       "Utilities          0\n",
       "dtype: int64"
      ]
     },
     "execution_count": 4,
     "metadata": {},
     "output_type": "execute_result"
    }
   ],
   "source": [
    "train.isnull().sum().sort_values(ascending=False).head(20)"
   ]
  },
  {
   "cell_type": "markdown",
   "metadata": {},
   "source": [
    "In the above code, we count the number of NaN values in each column, sort the result and show only the first 20 results.\n",
    "\n",
    "We can see that the columns PoolQC, MiscFeature, Alley, Fence, FireplaceQu have a lot of NaN values.\n",
    "\n",
    "These columns with a lot of missing data will not contribute to our machine learning model. So let's remove them from the data."
   ]
  },
  {
   "cell_type": "code",
   "execution_count": 5,
   "metadata": {},
   "outputs": [],
   "source": [
    "# Dropping columns\n",
    "train.drop(columns=['PoolQC', 'MiscFeature', 'Alley', 'Fence', 'FireplaceQu'], inplace=True)\n",
    "test.drop(columns=['PoolQC', 'MiscFeature', 'Alley', 'Fence', 'FireplaceQu'], inplace=True)"
   ]
  },
  {
   "cell_type": "code",
   "execution_count": 6,
   "metadata": {},
   "outputs": [
    {
     "data": {
      "text/plain": [
       "LotFrontage     259\n",
       "GarageFinish     81\n",
       "GarageType       81\n",
       "GarageCond       81\n",
       "GarageQual       81\n",
       "GarageYrBlt      81\n",
       "BsmtExposure     38\n",
       "BsmtFinType2     38\n",
       "BsmtFinType1     37\n",
       "BsmtCond         37\n",
       "BsmtQual         37\n",
       "MasVnrType        8\n",
       "MasVnrArea        8\n",
       "Electrical        1\n",
       "dtype: int64"
      ]
     },
     "execution_count": 6,
     "metadata": {},
     "output_type": "execute_result"
    }
   ],
   "source": [
    "# List the current columns with NaN values\n",
    "columns_nan = train.isnull().sum().sort_values(ascending=False)\n",
    "columns_nan = columns_nan[columns_nan > 0]\n",
    "columns_nan"
   ]
  },
  {
   "cell_type": "markdown",
   "metadata": {},
   "source": [
    "Let's check the remaining columns with NaN values and what we can do to clean these data."
   ]
  },
  {
   "cell_type": "code",
   "execution_count": 7,
   "metadata": {},
   "outputs": [
    {
     "data": {
      "text/html": [
       "<div>\n",
       "<style scoped>\n",
       "    .dataframe tbody tr th:only-of-type {\n",
       "        vertical-align: middle;\n",
       "    }\n",
       "\n",
       "    .dataframe tbody tr th {\n",
       "        vertical-align: top;\n",
       "    }\n",
       "\n",
       "    .dataframe thead th {\n",
       "        text-align: right;\n",
       "    }\n",
       "</style>\n",
       "<table border=\"1\" class=\"dataframe\">\n",
       "  <thead>\n",
       "    <tr style=\"text-align: right;\">\n",
       "      <th></th>\n",
       "      <th>LotFrontage</th>\n",
       "      <th>GarageFinish</th>\n",
       "      <th>GarageType</th>\n",
       "      <th>GarageCond</th>\n",
       "      <th>GarageQual</th>\n",
       "      <th>GarageYrBlt</th>\n",
       "      <th>BsmtExposure</th>\n",
       "      <th>BsmtFinType2</th>\n",
       "      <th>BsmtFinType1</th>\n",
       "      <th>BsmtCond</th>\n",
       "      <th>BsmtQual</th>\n",
       "      <th>MasVnrType</th>\n",
       "      <th>MasVnrArea</th>\n",
       "      <th>Electrical</th>\n",
       "    </tr>\n",
       "  </thead>\n",
       "  <tbody>\n",
       "    <tr>\n",
       "      <th>0</th>\n",
       "      <td>65.0</td>\n",
       "      <td>RFn</td>\n",
       "      <td>Attchd</td>\n",
       "      <td>TA</td>\n",
       "      <td>TA</td>\n",
       "      <td>2003.0</td>\n",
       "      <td>No</td>\n",
       "      <td>Unf</td>\n",
       "      <td>GLQ</td>\n",
       "      <td>TA</td>\n",
       "      <td>Gd</td>\n",
       "      <td>BrkFace</td>\n",
       "      <td>196.0</td>\n",
       "      <td>SBrkr</td>\n",
       "    </tr>\n",
       "    <tr>\n",
       "      <th>1</th>\n",
       "      <td>80.0</td>\n",
       "      <td>RFn</td>\n",
       "      <td>Attchd</td>\n",
       "      <td>TA</td>\n",
       "      <td>TA</td>\n",
       "      <td>1976.0</td>\n",
       "      <td>Gd</td>\n",
       "      <td>Unf</td>\n",
       "      <td>ALQ</td>\n",
       "      <td>TA</td>\n",
       "      <td>Gd</td>\n",
       "      <td>None</td>\n",
       "      <td>0.0</td>\n",
       "      <td>SBrkr</td>\n",
       "    </tr>\n",
       "    <tr>\n",
       "      <th>2</th>\n",
       "      <td>68.0</td>\n",
       "      <td>RFn</td>\n",
       "      <td>Attchd</td>\n",
       "      <td>TA</td>\n",
       "      <td>TA</td>\n",
       "      <td>2001.0</td>\n",
       "      <td>Mn</td>\n",
       "      <td>Unf</td>\n",
       "      <td>GLQ</td>\n",
       "      <td>TA</td>\n",
       "      <td>Gd</td>\n",
       "      <td>BrkFace</td>\n",
       "      <td>162.0</td>\n",
       "      <td>SBrkr</td>\n",
       "    </tr>\n",
       "    <tr>\n",
       "      <th>3</th>\n",
       "      <td>60.0</td>\n",
       "      <td>Unf</td>\n",
       "      <td>Detchd</td>\n",
       "      <td>TA</td>\n",
       "      <td>TA</td>\n",
       "      <td>1998.0</td>\n",
       "      <td>No</td>\n",
       "      <td>Unf</td>\n",
       "      <td>ALQ</td>\n",
       "      <td>Gd</td>\n",
       "      <td>TA</td>\n",
       "      <td>None</td>\n",
       "      <td>0.0</td>\n",
       "      <td>SBrkr</td>\n",
       "    </tr>\n",
       "    <tr>\n",
       "      <th>4</th>\n",
       "      <td>84.0</td>\n",
       "      <td>RFn</td>\n",
       "      <td>Attchd</td>\n",
       "      <td>TA</td>\n",
       "      <td>TA</td>\n",
       "      <td>2000.0</td>\n",
       "      <td>Av</td>\n",
       "      <td>Unf</td>\n",
       "      <td>GLQ</td>\n",
       "      <td>TA</td>\n",
       "      <td>Gd</td>\n",
       "      <td>BrkFace</td>\n",
       "      <td>350.0</td>\n",
       "      <td>SBrkr</td>\n",
       "    </tr>\n",
       "    <tr>\n",
       "      <th>5</th>\n",
       "      <td>85.0</td>\n",
       "      <td>Unf</td>\n",
       "      <td>Attchd</td>\n",
       "      <td>TA</td>\n",
       "      <td>TA</td>\n",
       "      <td>1993.0</td>\n",
       "      <td>No</td>\n",
       "      <td>Unf</td>\n",
       "      <td>GLQ</td>\n",
       "      <td>TA</td>\n",
       "      <td>Gd</td>\n",
       "      <td>None</td>\n",
       "      <td>0.0</td>\n",
       "      <td>SBrkr</td>\n",
       "    </tr>\n",
       "    <tr>\n",
       "      <th>6</th>\n",
       "      <td>75.0</td>\n",
       "      <td>RFn</td>\n",
       "      <td>Attchd</td>\n",
       "      <td>TA</td>\n",
       "      <td>TA</td>\n",
       "      <td>2004.0</td>\n",
       "      <td>Av</td>\n",
       "      <td>Unf</td>\n",
       "      <td>GLQ</td>\n",
       "      <td>TA</td>\n",
       "      <td>Ex</td>\n",
       "      <td>Stone</td>\n",
       "      <td>186.0</td>\n",
       "      <td>SBrkr</td>\n",
       "    </tr>\n",
       "    <tr>\n",
       "      <th>7</th>\n",
       "      <td>NaN</td>\n",
       "      <td>RFn</td>\n",
       "      <td>Attchd</td>\n",
       "      <td>TA</td>\n",
       "      <td>TA</td>\n",
       "      <td>1973.0</td>\n",
       "      <td>Mn</td>\n",
       "      <td>BLQ</td>\n",
       "      <td>ALQ</td>\n",
       "      <td>TA</td>\n",
       "      <td>Gd</td>\n",
       "      <td>Stone</td>\n",
       "      <td>240.0</td>\n",
       "      <td>SBrkr</td>\n",
       "    </tr>\n",
       "    <tr>\n",
       "      <th>8</th>\n",
       "      <td>51.0</td>\n",
       "      <td>Unf</td>\n",
       "      <td>Detchd</td>\n",
       "      <td>TA</td>\n",
       "      <td>Fa</td>\n",
       "      <td>1931.0</td>\n",
       "      <td>No</td>\n",
       "      <td>Unf</td>\n",
       "      <td>Unf</td>\n",
       "      <td>TA</td>\n",
       "      <td>TA</td>\n",
       "      <td>None</td>\n",
       "      <td>0.0</td>\n",
       "      <td>FuseF</td>\n",
       "    </tr>\n",
       "    <tr>\n",
       "      <th>9</th>\n",
       "      <td>50.0</td>\n",
       "      <td>RFn</td>\n",
       "      <td>Attchd</td>\n",
       "      <td>TA</td>\n",
       "      <td>Gd</td>\n",
       "      <td>1939.0</td>\n",
       "      <td>No</td>\n",
       "      <td>Unf</td>\n",
       "      <td>GLQ</td>\n",
       "      <td>TA</td>\n",
       "      <td>TA</td>\n",
       "      <td>None</td>\n",
       "      <td>0.0</td>\n",
       "      <td>SBrkr</td>\n",
       "    </tr>\n",
       "  </tbody>\n",
       "</table>\n",
       "</div>"
      ],
      "text/plain": [
       "   LotFrontage GarageFinish GarageType GarageCond GarageQual  GarageYrBlt  \\\n",
       "0         65.0          RFn     Attchd         TA         TA       2003.0   \n",
       "1         80.0          RFn     Attchd         TA         TA       1976.0   \n",
       "2         68.0          RFn     Attchd         TA         TA       2001.0   \n",
       "3         60.0          Unf     Detchd         TA         TA       1998.0   \n",
       "4         84.0          RFn     Attchd         TA         TA       2000.0   \n",
       "5         85.0          Unf     Attchd         TA         TA       1993.0   \n",
       "6         75.0          RFn     Attchd         TA         TA       2004.0   \n",
       "7          NaN          RFn     Attchd         TA         TA       1973.0   \n",
       "8         51.0          Unf     Detchd         TA         Fa       1931.0   \n",
       "9         50.0          RFn     Attchd         TA         Gd       1939.0   \n",
       "\n",
       "  BsmtExposure BsmtFinType2 BsmtFinType1 BsmtCond BsmtQual MasVnrType  \\\n",
       "0           No          Unf          GLQ       TA       Gd    BrkFace   \n",
       "1           Gd          Unf          ALQ       TA       Gd       None   \n",
       "2           Mn          Unf          GLQ       TA       Gd    BrkFace   \n",
       "3           No          Unf          ALQ       Gd       TA       None   \n",
       "4           Av          Unf          GLQ       TA       Gd    BrkFace   \n",
       "5           No          Unf          GLQ       TA       Gd       None   \n",
       "6           Av          Unf          GLQ       TA       Ex      Stone   \n",
       "7           Mn          BLQ          ALQ       TA       Gd      Stone   \n",
       "8           No          Unf          Unf       TA       TA       None   \n",
       "9           No          Unf          GLQ       TA       TA       None   \n",
       "\n",
       "   MasVnrArea Electrical  \n",
       "0       196.0      SBrkr  \n",
       "1         0.0      SBrkr  \n",
       "2       162.0      SBrkr  \n",
       "3         0.0      SBrkr  \n",
       "4       350.0      SBrkr  \n",
       "5         0.0      SBrkr  \n",
       "6       186.0      SBrkr  \n",
       "7       240.0      SBrkr  \n",
       "8         0.0      FuseF  \n",
       "9         0.0      SBrkr  "
      ]
     },
     "execution_count": 7,
     "metadata": {},
     "output_type": "execute_result"
    }
   ],
   "source": [
    "train[columns_nan.index].head(10)"
   ]
  },
  {
   "cell_type": "markdown",
   "metadata": {},
   "source": [
    "We have 3 numerical variables and 11 categorical variables.\n",
    "\n",
    "First, we check the correlation with the numerical variables with the target variable (SalePrice):"
   ]
  },
  {
   "cell_type": "code",
   "execution_count": 8,
   "metadata": {},
   "outputs": [
    {
     "data": {
      "text/html": [
       "<div>\n",
       "<style scoped>\n",
       "    .dataframe tbody tr th:only-of-type {\n",
       "        vertical-align: middle;\n",
       "    }\n",
       "\n",
       "    .dataframe tbody tr th {\n",
       "        vertical-align: top;\n",
       "    }\n",
       "\n",
       "    .dataframe thead th {\n",
       "        text-align: right;\n",
       "    }\n",
       "</style>\n",
       "<table border=\"1\" class=\"dataframe\">\n",
       "  <thead>\n",
       "    <tr style=\"text-align: right;\">\n",
       "      <th></th>\n",
       "      <th>LotFrontage</th>\n",
       "      <th>GarageYrBlt</th>\n",
       "      <th>MasVnrArea</th>\n",
       "      <th>SalePrice</th>\n",
       "    </tr>\n",
       "  </thead>\n",
       "  <tbody>\n",
       "    <tr>\n",
       "      <th>LotFrontage</th>\n",
       "      <td>1.000000</td>\n",
       "      <td>0.070250</td>\n",
       "      <td>0.193458</td>\n",
       "      <td>0.351799</td>\n",
       "    </tr>\n",
       "    <tr>\n",
       "      <th>GarageYrBlt</th>\n",
       "      <td>0.070250</td>\n",
       "      <td>1.000000</td>\n",
       "      <td>0.252691</td>\n",
       "      <td>0.486362</td>\n",
       "    </tr>\n",
       "    <tr>\n",
       "      <th>MasVnrArea</th>\n",
       "      <td>0.193458</td>\n",
       "      <td>0.252691</td>\n",
       "      <td>1.000000</td>\n",
       "      <td>0.477493</td>\n",
       "    </tr>\n",
       "    <tr>\n",
       "      <th>SalePrice</th>\n",
       "      <td>0.351799</td>\n",
       "      <td>0.486362</td>\n",
       "      <td>0.477493</td>\n",
       "      <td>1.000000</td>\n",
       "    </tr>\n",
       "  </tbody>\n",
       "</table>\n",
       "</div>"
      ],
      "text/plain": [
       "             LotFrontage  GarageYrBlt  MasVnrArea  SalePrice\n",
       "LotFrontage     1.000000     0.070250    0.193458   0.351799\n",
       "GarageYrBlt     0.070250     1.000000    0.252691   0.486362\n",
       "MasVnrArea      0.193458     0.252691    1.000000   0.477493\n",
       "SalePrice       0.351799     0.486362    0.477493   1.000000"
      ]
     },
     "execution_count": 8,
     "metadata": {},
     "output_type": "execute_result"
    }
   ],
   "source": [
    "c = list(columns_nan.index)\n",
    "c.append('SalePrice')\n",
    "train[c].corr()"
   ]
  },
  {
   "cell_type": "markdown",
   "metadata": {},
   "source": [
    "From above we can see that numerical variables have a weak correlation with SalePrice. \n",
    "\n",
    "This is a strong indication that these values will have small importance in model training.\n",
    "\n",
    "As in the dataset we have a lot of variables and we need to reduce this amount to reduce model complexity, we'll remove these columns."
   ]
  },
  {
   "cell_type": "code",
   "execution_count": 9,
   "metadata": {},
   "outputs": [],
   "source": [
    "# Dropping columns\n",
    "train.drop(columns=['LotFrontage', 'GarageYrBlt', 'MasVnrArea'], inplace=True)\n",
    "test.drop(columns=['LotFrontage', 'GarageYrBlt', 'MasVnrArea'], inplace=True)"
   ]
  },
  {
   "cell_type": "markdown",
   "metadata": {},
   "source": [
    "When checking the _GarageQual_ (categorical) variable values we find this:"
   ]
  },
  {
   "cell_type": "code",
   "execution_count": 10,
   "metadata": {},
   "outputs": [
    {
     "data": {
      "text/plain": [
       "TA    1311\n",
       "Fa      48\n",
       "Gd      14\n",
       "Po       3\n",
       "Ex       3\n",
       "Name: GarageQual, dtype: int64"
      ]
     },
     "execution_count": 10,
     "metadata": {},
     "output_type": "execute_result"
    }
   ],
   "source": [
    "train.GarageQual.value_counts()"
   ]
  },
  {
   "cell_type": "markdown",
   "metadata": {},
   "source": [
    "If we check the variable description we see this:\n",
    "\n",
    "__GarageQual: Garage quality__\n",
    "\n",
    "* _Ex Excellent_\n",
    "\n",
    "* _Gd Good_\n",
    "\n",
    "* _TA Typical/Average_\n",
    "\n",
    "* _Fa Fair_\n",
    "\n",
    "* _Po Poor_\n",
    "\n",
    "* _NA No Garage_"
   ]
  },
  {
   "cell_type": "markdown",
   "metadata": {},
   "source": [
    "It turns out that Pandas (Python module) incorrectly converted NA (no garage) values to NaN. This happened for all garage-related categorical variables (GarageQual, GarageType, GarageFinish, GarageCond) and for basement related variables (BsmtFinType2, BsmtExposure, BsmtQual, BsmtFinType1, BsmtCond). In order, to fix this, we just need to replace _NaN_ by _NA_."
   ]
  },
  {
   "cell_type": "code",
   "execution_count": 11,
   "metadata": {},
   "outputs": [],
   "source": [
    "# Replacing NaN by NA (no Garage or no Basement)\n",
    "for c in ['GarageQual', 'GarageType', 'GarageFinish', 'GarageCond', 'BsmtFinType2', 'BsmtExposure', 'BsmtQual', 'BsmtFinType1', 'BsmtCond']:\n",
    "    train[c].fillna('NA', inplace=True)\n",
    "    test[c].fillna('NA', inplace=True)"
   ]
  },
  {
   "cell_type": "code",
   "execution_count": 12,
   "metadata": {},
   "outputs": [
    {
     "data": {
      "text/plain": [
       "MasVnrType    8\n",
       "Electrical    1\n",
       "dtype: int64"
      ]
     },
     "execution_count": 12,
     "metadata": {},
     "output_type": "execute_result"
    }
   ],
   "source": [
    "# List the current columns with NaN values\n",
    "columns_nan = train.isnull().sum().sort_values(ascending=False)\n",
    "columns_nan = columns_nan[columns_nan > 0]\n",
    "columns_nan"
   ]
  },
  {
   "cell_type": "markdown",
   "metadata": {},
   "source": [
    "The remaining columns columns with NaN values are MasVnrType (Masonry veneer type) and Electrical (electrical system).\n",
    "\n",
    "MasVnrType has these possible values:\n",
    "* _BrkCmn - Brick Common_\n",
    "* _BrkFace - Brick Face_\n",
    "* _CBlock - Cinder Block_\n",
    "* _None - None_\n",
    "* _Stone - Stone_\n",
    "\n",
    "Just as it happened with GarageQual variable the Pandas incorrectly converted the value _None_ as _NaN_."
   ]
  },
  {
   "cell_type": "code",
   "execution_count": 13,
   "metadata": {},
   "outputs": [],
   "source": [
    "train.MasVnrType.fillna('None', inplace=True)\n",
    "test.MasVnrType.fillna('None', inplace=True)"
   ]
  },
  {
   "cell_type": "markdown",
   "metadata": {},
   "source": [
    "Finally, let's check the Electrical column:"
   ]
  },
  {
   "cell_type": "code",
   "execution_count": 14,
   "metadata": {},
   "outputs": [
    {
     "data": {
      "text/plain": [
       "SBrkr    1334\n",
       "FuseA      94\n",
       "FuseF      27\n",
       "FuseP       3\n",
       "Mix         1\n",
       "Name: Electrical, dtype: int64"
      ]
     },
     "execution_count": 14,
     "metadata": {},
     "output_type": "execute_result"
    }
   ],
   "source": [
    "train.Electrical.value_counts()"
   ]
  },
  {
   "cell_type": "markdown",
   "metadata": {},
   "source": [
    "For the Electrical variable, there is no _NA_ or _None_ possible value, so in that case, this is a true missing value.\n",
    "\n",
    "As we have only one observation with _NaN_ value, we'll just replace it with the most common value (SBrkr)."
   ]
  },
  {
   "cell_type": "code",
   "execution_count": 15,
   "metadata": {},
   "outputs": [],
   "source": [
    "train.Electrical.fillna('SBrkr', inplace=True)\n",
    "test.Electrical.fillna('SBrkr', inplace=True)"
   ]
  },
  {
   "cell_type": "code",
   "execution_count": 16,
   "metadata": {},
   "outputs": [
    {
     "data": {
      "text/plain": [
       "False"
      ]
     },
     "execution_count": 16,
     "metadata": {},
     "output_type": "execute_result"
    }
   ],
   "source": [
    "# Checking if there are NaN values\n",
    "train.isnull().values.any()"
   ]
  },
  {
   "cell_type": "markdown",
   "metadata": {},
   "source": [
    "So, now our datasets are cleaned."
   ]
  },
  {
   "cell_type": "markdown",
   "metadata": {},
   "source": [
    "### Features Analysis and Selection\n",
    "\n",
    "Feature Selection is the process of selecting the attributes that can make the predicted variable more accurate or eliminating those attributes that are irrelevant and can decrease the model accuracy and quality.\n",
    "\n",
    "Now, let's analyze the numerical and categorical variables (features) and find the most important variables to create the Machine Learning model."
   ]
  },
  {
   "cell_type": "code",
   "execution_count": 17,
   "metadata": {},
   "outputs": [
    {
     "data": {
      "text/plain": [
       "object    38\n",
       "int64     35\n",
       "dtype: int64"
      ]
     },
     "execution_count": 17,
     "metadata": {},
     "output_type": "execute_result"
    }
   ],
   "source": [
    "train.dtypes.value_counts()"
   ]
  },
  {
   "cell_type": "markdown",
   "metadata": {},
   "source": [
    "From above we can see that there is 38 categorical variables and 35 numerical variables.\n",
    "\n",
    "we will first discuss about Numeric feature selection. \n",
    "\n",
    "#### Numerical Features\n",
    "\n",
    "We'll start with numerical variables.\n",
    "\n",
    "Let's compute the correlation matrix of the numerical values "
   ]
  },
  {
   "cell_type": "code",
   "execution_count": 18,
   "metadata": {},
   "outputs": [
    {
     "data": {
      "image/png": "[encoded data removed]",
      "text/plain": [
       "<Figure size 1152x648 with 2 Axes>"
      ]
     },
     "metadata": {
      "needs_background": "light"
     },
     "output_type": "display_data"
    }
   ],
   "source": [
    "# Get only numerical columns\n",
    "numerical_columns = list(train.dtypes[train.dtypes == 'int64'].index)\n",
    "numerical_columns.remove('Id')\n",
    "\n",
    "# plot the heatmap and annotation on it\n",
    "plt.figure(figsize=(16, 9))\n",
    "sns.heatmap(train[numerical_columns].corr(), xticklabels=numerical_columns, yticklabels=numerical_columns, annot=False);"
   ]
  },
  {
   "cell_type": "markdown",
   "metadata": {},
   "source": [
    "As we have a lot of variables, is hard to analyze this figure.\n",
    "\n",
    "Let's get the correlations related to the target variable (_SalePrice_).\n",
    "\n",
    "As we are interested in the most correlated variables, let's filter to get only the variables with a correlation above 0.5 (positively correlated) or below -0.5 (negatively correlated)."
   ]
  },
  {
   "cell_type": "code",
   "execution_count": 19,
   "metadata": {},
   "outputs": [
    {
     "name": "stdout",
     "output_type": "stream",
     "text": [
      "YearRemodAdd    0.507101\n",
      "YearBuilt       0.522897\n",
      "TotRmsAbvGrd    0.533723\n",
      "FullBath        0.560664\n",
      "1stFlrSF        0.605852\n",
      "TotalBsmtSF     0.613581\n",
      "GarageArea      0.623431\n",
      "GarageCars      0.640409\n",
      "GrLivArea       0.708624\n",
      "OverallQual     0.790982\n",
      "SalePrice       1.000000\n",
      "Name: SalePrice, dtype: float64\n"
     ]
    }
   ],
   "source": [
    "# Get the SalePrice column of the correlation matrix \n",
    "correlations = train[numerical_columns].corr()['SalePrice'].sort_values()\n",
    "# Filter the correlations\n",
    "high_correlated_columns = correlations[(correlations > 0.5) | (correlations < -0.5)]\n",
    "# Show the results\n",
    "print(high_correlated_columns)\n",
    "# Save the columns names in a list\n",
    "high_correlated_columns = list(high_correlated_columns.index)\n",
    "# Remove the SalePrice value from the list\n",
    "high_correlated_columns.remove('SalePrice')"
   ]
  },
  {
   "cell_type": "markdown",
   "metadata": {},
   "source": [
    "We've selected 10 variables from this simple analysis.\n",
    "\n",
    "If we check the data description file, we see that, actually, some numerical variables, are categorical variables that were saved (codified) as numbers.\n",
    "\n",
    "Here is the description of _OverallQual_ variable:\n",
    "\n",
    "_OverallQual: Rates the overall material and finish of the house_\n",
    "* 10 Very Excellent\n",
    "* 9 Excellent\n",
    "* 8 Very Good\n",
    "* 7 Good\n",
    "* 6 Above Average\n",
    "* 5 Average\n",
    "* 4 Below Average\n",
    "* 3 Fair\n",
    "* 2 Poor\n",
    "* 1 Very Poor\n",
    "\n",
    "For now, we'll keep this selection as it is, but we need to keep this in mind if the machine learning model gets poor performance with the selected variables.\n",
    "\n",
    "However this is not the end of the process. One of the assumptions of linear regression is that the independent variables need to be uncorrelated with each other. If these variables are correlated with each other, then we need to keep only one of them and drop the rest. So let us check the correlation of selected features with each other. This can be done either by visually checking it from the above correlation matrix "
   ]
  },
  {
   "cell_type": "code",
   "execution_count": 20,
   "metadata": {},
   "outputs": [
    {
     "data": {
      "image/png": "[encoded data removed]",
      "text/plain": [
       "<Figure size 720x504 with 2 Axes>"
      ]
     },
     "metadata": {
      "needs_background": "light"
     },
     "output_type": "display_data"
    }
   ],
   "source": [
    "plt.figure(figsize=(10, 7))\n",
    "sns.heatmap(train[high_correlated_columns].corr(), xticklabels=high_correlated_columns, yticklabels=high_correlated_columns, annot=True, cmap=plt.cm.Reds);"
   ]
  },
  {
   "cell_type": "markdown",
   "metadata": {},
   "source": [
    "From the above image, it is seen some variables are highly correlated (> 0.6):\n",
    "* **TotRmsAbvGrd** and **GrLivArea** --> 0.83\n",
    "* **GarageArea** and **GarageCars** --> 0.88\n",
    "* **1stFlrSF** and **TotalBsmtSF** --> 0.82\n",
    "* **FullBath** and **GrLivArea** --> 0.63\n",
    "\n",
    "Let's see what are information in these variables:\n",
    "* **TotRmsAbvGrd**: Total rooms above grade (does not include bathrooms)\n",
    "* **GrLivArea**: Above grade (ground) living area square feet\n",
    "* **GarageCars**: Size of garage in car capacity\n",
    "* **TotalBsmtSF**: Total square feet of basement area\n",
    "* **1stFlrSF**: First Floor square feet\n",
    "* **FullBath**: Full bathrooms above grade\n",
    "\n",
    "Hence we would keep only one variable from each pair and drop the other. \n",
    "\n",
    "We will keep the variables with highest correlation with **SalePrice**.\n",
    "\n",
    "Thus, we selected: _GrLivArea, GarageCars, TotalBsmtSF_ and remove the others.    "
   ]
  },
  {
   "cell_type": "code",
   "execution_count": 128,
   "metadata": {},
   "outputs": [
    {
     "data": {
      "text/plain": [
       "['YearRemodAdd',\n",
       " 'YearBuilt',\n",
       " 'TotalBsmtSF',\n",
       " 'GarageCars',\n",
       " 'GrLivArea',\n",
       " 'OverallQual']"
      ]
     },
     "execution_count": 128,
     "metadata": {},
     "output_type": "execute_result"
    }
   ],
   "source": [
    "# Make a copy\n",
    "selected_numerical_columns = high_correlated_columns[:]\n",
    "# Remove variables\n",
    "selected_numerical_columns.remove('TotRmsAbvGrd')\n",
    "selected_numerical_columns.remove('GarageArea')\n",
    "selected_numerical_columns.remove('1stFlrSF')\n",
    "selected_numerical_columns.remove('FullBath')\n",
    "\n",
    "# Show selected columns\n",
    "selected_numerical_columns"
   ]
  },
  {
   "cell_type": "markdown",
   "metadata": {},
   "source": [
    "#### Categorical Features\n",
    "\n",
    "Now, let's check the categorical variables."
   ]
  },
  {
   "cell_type": "code",
   "execution_count": 130,
   "metadata": {},
   "outputs": [
    {
     "data": {
      "text/html": [
       "<div>\n",
       "<style scoped>\n",
       "    .dataframe tbody tr th:only-of-type {\n",
       "        vertical-align: middle;\n",
       "    }\n",
       "\n",
       "    .dataframe tbody tr th {\n",
       "        vertical-align: top;\n",
       "    }\n",
       "\n",
       "    .dataframe thead th {\n",
       "        text-align: right;\n",
       "    }\n",
       "</style>\n",
       "<table border=\"1\" class=\"dataframe\">\n",
       "  <thead>\n",
       "    <tr style=\"text-align: right;\">\n",
       "      <th></th>\n",
       "      <th>MSZoning</th>\n",
       "      <th>Street</th>\n",
       "      <th>LotShape</th>\n",
       "      <th>LandContour</th>\n",
       "      <th>Utilities</th>\n",
       "      <th>LotConfig</th>\n",
       "      <th>LandSlope</th>\n",
       "      <th>Neighborhood</th>\n",
       "      <th>Condition1</th>\n",
       "      <th>Condition2</th>\n",
       "      <th>...</th>\n",
       "      <th>Electrical</th>\n",
       "      <th>KitchenQual</th>\n",
       "      <th>Functional</th>\n",
       "      <th>GarageType</th>\n",
       "      <th>GarageFinish</th>\n",
       "      <th>GarageQual</th>\n",
       "      <th>GarageCond</th>\n",
       "      <th>PavedDrive</th>\n",
       "      <th>SaleType</th>\n",
       "      <th>SaleCondition</th>\n",
       "    </tr>\n",
       "  </thead>\n",
       "  <tbody>\n",
       "    <tr>\n",
       "      <th>0</th>\n",
       "      <td>RL</td>\n",
       "      <td>Pave</td>\n",
       "      <td>Reg</td>\n",
       "      <td>Lvl</td>\n",
       "      <td>AllPub</td>\n",
       "      <td>Inside</td>\n",
       "      <td>Gtl</td>\n",
       "      <td>CollgCr</td>\n",
       "      <td>Norm</td>\n",
       "      <td>Norm</td>\n",
       "      <td>...</td>\n",
       "      <td>SBrkr</td>\n",
       "      <td>Gd</td>\n",
       "      <td>Typ</td>\n",
       "      <td>Attchd</td>\n",
       "      <td>RFn</td>\n",
       "      <td>TA</td>\n",
       "      <td>TA</td>\n",
       "      <td>Y</td>\n",
       "      <td>WD</td>\n",
       "      <td>Normal</td>\n",
       "    </tr>\n",
       "    <tr>\n",
       "      <th>1</th>\n",
       "      <td>RL</td>\n",
       "      <td>Pave</td>\n",
       "      <td>Reg</td>\n",
       "      <td>Lvl</td>\n",
       "      <td>AllPub</td>\n",
       "      <td>FR2</td>\n",
       "      <td>Gtl</td>\n",
       "      <td>Veenker</td>\n",
       "      <td>Feedr</td>\n",
       "      <td>Norm</td>\n",
       "      <td>...</td>\n",
       "      <td>SBrkr</td>\n",
       "      <td>TA</td>\n",
       "      <td>Typ</td>\n",
       "      <td>Attchd</td>\n",
       "      <td>RFn</td>\n",
       "      <td>TA</td>\n",
       "      <td>TA</td>\n",
       "      <td>Y</td>\n",
       "      <td>WD</td>\n",
       "      <td>Normal</td>\n",
       "    </tr>\n",
       "    <tr>\n",
       "      <th>2</th>\n",
       "      <td>RL</td>\n",
       "      <td>Pave</td>\n",
       "      <td>IR1</td>\n",
       "      <td>Lvl</td>\n",
       "      <td>AllPub</td>\n",
       "      <td>Inside</td>\n",
       "      <td>Gtl</td>\n",
       "      <td>CollgCr</td>\n",
       "      <td>Norm</td>\n",
       "      <td>Norm</td>\n",
       "      <td>...</td>\n",
       "      <td>SBrkr</td>\n",
       "      <td>Gd</td>\n",
       "      <td>Typ</td>\n",
       "      <td>Attchd</td>\n",
       "      <td>RFn</td>\n",
       "      <td>TA</td>\n",
       "      <td>TA</td>\n",
       "      <td>Y</td>\n",
       "      <td>WD</td>\n",
       "      <td>Normal</td>\n",
       "    </tr>\n",
       "    <tr>\n",
       "      <th>3</th>\n",
       "      <td>RL</td>\n",
       "      <td>Pave</td>\n",
       "      <td>IR1</td>\n",
       "      <td>Lvl</td>\n",
       "      <td>AllPub</td>\n",
       "      <td>Corner</td>\n",
       "      <td>Gtl</td>\n",
       "      <td>Crawfor</td>\n",
       "      <td>Norm</td>\n",
       "      <td>Norm</td>\n",
       "      <td>...</td>\n",
       "      <td>SBrkr</td>\n",
       "      <td>Gd</td>\n",
       "      <td>Typ</td>\n",
       "      <td>Detchd</td>\n",
       "      <td>Unf</td>\n",
       "      <td>TA</td>\n",
       "      <td>TA</td>\n",
       "      <td>Y</td>\n",
       "      <td>WD</td>\n",
       "      <td>Abnorml</td>\n",
       "    </tr>\n",
       "    <tr>\n",
       "      <th>4</th>\n",
       "      <td>RL</td>\n",
       "      <td>Pave</td>\n",
       "      <td>IR1</td>\n",
       "      <td>Lvl</td>\n",
       "      <td>AllPub</td>\n",
       "      <td>FR2</td>\n",
       "      <td>Gtl</td>\n",
       "      <td>NoRidge</td>\n",
       "      <td>Norm</td>\n",
       "      <td>Norm</td>\n",
       "      <td>...</td>\n",
       "      <td>SBrkr</td>\n",
       "      <td>Gd</td>\n",
       "      <td>Typ</td>\n",
       "      <td>Attchd</td>\n",
       "      <td>RFn</td>\n",
       "      <td>TA</td>\n",
       "      <td>TA</td>\n",
       "      <td>Y</td>\n",
       "      <td>WD</td>\n",
       "      <td>Normal</td>\n",
       "    </tr>\n",
       "  </tbody>\n",
       "</table>\n",
       "<p>5 rows × 38 columns</p>\n",
       "</div>"
      ],
      "text/plain": [
       "  MSZoning Street LotShape LandContour Utilities LotConfig LandSlope  \\\n",
       "0       RL   Pave      Reg         Lvl    AllPub    Inside       Gtl   \n",
       "1       RL   Pave      Reg         Lvl    AllPub       FR2       Gtl   \n",
       "2       RL   Pave      IR1         Lvl    AllPub    Inside       Gtl   \n",
       "3       RL   Pave      IR1         Lvl    AllPub    Corner       Gtl   \n",
       "4       RL   Pave      IR1         Lvl    AllPub       FR2       Gtl   \n",
       "\n",
       "  Neighborhood Condition1 Condition2  ... Electrical KitchenQual Functional  \\\n",
       "0      CollgCr       Norm       Norm  ...      SBrkr          Gd        Typ   \n",
       "1      Veenker      Feedr       Norm  ...      SBrkr          TA        Typ   \n",
       "2      CollgCr       Norm       Norm  ...      SBrkr          Gd        Typ   \n",
       "3      Crawfor       Norm       Norm  ...      SBrkr          Gd        Typ   \n",
       "4      NoRidge       Norm       Norm  ...      SBrkr          Gd        Typ   \n",
       "\n",
       "  GarageType GarageFinish GarageQual GarageCond PavedDrive SaleType  \\\n",
       "0     Attchd          RFn         TA         TA          Y       WD   \n",
       "1     Attchd          RFn         TA         TA          Y       WD   \n",
       "2     Attchd          RFn         TA         TA          Y       WD   \n",
       "3     Detchd          Unf         TA         TA          Y       WD   \n",
       "4     Attchd          RFn         TA         TA          Y       WD   \n",
       "\n",
       "  SaleCondition  \n",
       "0        Normal  \n",
       "1        Normal  \n",
       "2        Normal  \n",
       "3       Abnorml  \n",
       "4        Normal  \n",
       "\n",
       "[5 rows x 38 columns]"
      ]
     },
     "execution_count": 130,
     "metadata": {},
     "output_type": "execute_result"
    }
   ],
   "source": [
    "# Get only categorical columns\n",
    "categ_columns = list(train.dtypes[train.dtypes == 'object'].index)\n",
    "\n",
    "# Show some data\n",
    "train[categ_columns].head()"
   ]
  },
  {
   "cell_type": "markdown",
   "metadata": {},
   "source": [
    "Let's see if there is some null values (NaN) in the categorical "
   ]
  },
  {
   "cell_type": "code",
   "execution_count": null,
   "metadata": {},
   "outputs": [],
   "source": []
  },
  {
   "cell_type": "code",
   "execution_count": null,
   "metadata": {},
   "outputs": [],
   "source": []
  },
  {
   "cell_type": "markdown",
   "metadata": {},
   "source": [
    "https://www.kaggle.com/c/house-prices-advanced-regression-techniques/data\n",
    "\n",
    "https://www.datacamp.com/community/tutorials/categorical-data\n",
    "\n",
    "https://www.kaggle.com/avelinocaio/house-prices-complete-guide"
   ]
  },
  {
   "cell_type": "code",
   "execution_count": null,
   "metadata": {},
   "outputs": [],
   "source": []
  }
 ],
 "metadata": {
  "kernelspec": {
   "display_name": "Python 3",
   "language": "python",
   "name": "python3"
  },
  "language_info": {
   "codemirror_mode": {
    "name": "ipython",
    "version": 3
   },
   "file_extension": ".py",
   "mimetype": "text/x-python",
   "name": "python",
   "nbconvert_exporter": "python",
   "pygments_lexer": "ipython3",
   "version": "3.7.3"
  }
 },
 "nbformat": 4,
 "nbformat_minor": 2
}
